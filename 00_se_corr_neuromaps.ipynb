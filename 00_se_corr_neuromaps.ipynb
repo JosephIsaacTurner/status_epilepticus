{
 "cells": [
  {
   "cell_type": "markdown",
   "metadata": {},
   "source": [
    "### Neuromaps Correlation Analysis on Status Epilepticus\n",
    "\n",
    "**Author**: Joseph Turner"
   ]
  },
  {
   "cell_type": "markdown",
   "metadata": {},
   "source": [
    "##### Module imports and data loading\n",
    "\n",
    "The following code block imports the necessary modules and loads the data from the Neuromaps database. \n",
    "\n",
    "We are fetching two annotations from the Neuromaps database that are cerebral blood flow maps (see [here](https://docs.google.com/spreadsheets/d/1oZecOsvtQEh5pQkIf8cB6CyhPKVrQuko/))\n",
    "\n",
    "The first annotation is in surface space, and the second is in volume space. Later on we will compare the two annotations to our volumetric status epilepticus map. "
   ]
  },
  {
   "cell_type": "code",
   "execution_count": 30,
   "metadata": {},
   "outputs": [],
   "source": [
    "from neuromaps.datasets import available_annotations, fetch_annotation, fetch_mni152\n",
    "from neuromaps.resampling import resample_images\n",
    "from neuromaps.stats import compare_images\n",
    "from neuromaps import transforms\n",
    "import nibabel as nib\n",
    "\n",
    "# The first annotation (raichle) is in fsLR space at 164k vertices\n",
    "annotation1 = ('raichle', 'cbf', 'fsLR', '164k')\n",
    "an1 = fetch_annotation(source=annotation1[0],  data_dir='data')\n",
    "\n",
    "# The second annotation (satterthwaite2014) is in MNI152 space at 1mm resolution\n",
    "annotation2 = ('satterthwaite2014', 'meancbf', 'MNI152', '1mm')\n",
    "an2 = fetch_annotation(source=annotation2[0], data_dir='data')\n",
    "\n",
    "# The status epilepticus map is in MNI152 space at 2mm resolution\n",
    "img_path = 'se_maps/status_epilepticus.nii'\n",
    "img = nib.load(img_path)\n"
   ]
  },
  {
   "cell_type": "markdown",
   "metadata": {},
   "source": [
    "**Compare to the first blood flow annotation from Raichle**"
   ]
  },
  {
   "cell_type": "code",
   "execution_count": 36,
   "metadata": {},
   "outputs": [
    {
     "name": "stdout",
     "output_type": "stream",
     "text": [
      "Correlation between status epilepticus and raichle (fsLR, 164k, L): 0.0998\n",
      "Correlation between status epilepticus and raichle (fsLR, 164k, R): -0.0118\n"
     ]
    }
   ],
   "source": [
    "img_transformed = transforms.mni152_to_fslr(img_path, fslr_density='164k')\n",
    "img_transformed[0].to_filename('se_maps/status_epilepticus_fsL.gii')\n",
    "img_transformed[1].to_filename('se_maps/status_epilepticus_fsR.gii')\n",
    "\n",
    "\n",
    "r1 = compare_images(src='se_maps/status_epilepticus_fsL.gii', trg='data/annotations/raichle/cbf/fsLR/source-raichle_desc-cbf_space-fsLR_den-164k_hemi-L_feature.func.gii', metric='pearsonr')\n",
    "r2 = compare_images(src='se_mapsstatus_epilepticus_fsR.gii', trg='data/annotations/raichle/cbf/fsLR/source-raichle_desc-cbf_space-fsLR_den-164k_hemi-R_feature.func.gii', metric='pearsonr')\n",
    "\n",
    "print(f\"Correlation between status epilepticus and raichle (fsLR, 164k, L): {r1:.4f}\")\n",
    "print(f\"Correlation between status epilepticus and raichle (fsLR, 164k, R): {r2:.4f}\")"
   ]
  },
  {
   "cell_type": "markdown",
   "metadata": {},
   "source": [
    "**Compare to the second blood flow annotation from Satterthwaite et al. 2014**"
   ]
  },
  {
   "cell_type": "code",
   "execution_count": 37,
   "metadata": {},
   "outputs": [
    {
     "name": "stdout",
     "output_type": "stream",
     "text": [
      "Correlation between status epilepticus and satterthwaite2014: -0.0318\n"
     ]
    }
   ],
   "source": [
    "an2_transformed = transforms.mni152_to_mni152(an2, target=img_path)\n",
    "squeezed_data = an2_transformed.get_fdata().squeeze()\n",
    "an2_transformed = nib.Nifti1Image(squeezed_data, an2_transformed.affine)\n",
    "an2_transformed.shape, img.shape\n",
    "type(an2_transformed), type(img)\n",
    "\n",
    "r = compare_images(src=img.get_fdata(), trg=an2_transformed.get_fdata(), metric='pearsonr')\n",
    "print(f\"Correlation between status epilepticus and satterthwaite2014: {r:.4f}\")\n"
   ]
  }
 ],
 "metadata": {
  "kernelspec": {
   "display_name": "base",
   "language": "python",
   "name": "python3"
  },
  "language_info": {
   "codemirror_mode": {
    "name": "ipython",
    "version": 3
   },
   "file_extension": ".py",
   "mimetype": "text/x-python",
   "name": "python",
   "nbconvert_exporter": "python",
   "pygments_lexer": "ipython3",
   "version": "3.12.2"
  }
 },
 "nbformat": 4,
 "nbformat_minor": 2
}
