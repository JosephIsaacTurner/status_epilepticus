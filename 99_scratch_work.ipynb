{
 "cells": [
  {
   "cell_type": "code",
   "execution_count": 18,
   "metadata": {},
   "outputs": [],
   "source": [
    "from nilearn import datasets as datasets\n",
    "import nibabel as nib\n",
    "\n",
    "new_mask = datasets.load_mni152_brain_mask(resolution=2)\n",
    "new_mask_shape = new_mask.shape # Returns (99, 117, 95)\n",
    "new_mask_affine = new_mask.affine # Returns:\n",
    "# array([[   2.,    0.,    0.,  -98.],\n",
    "#        [   0.,    2.,    0., -134.],\n",
    "#        [   0.,    0.,    2.,  -72.],\n",
    "#        [   0.,    0.,    0.,    1.]])\n",
    "\n",
    "old_mask = nib.load(\"/Users/jt041/repos/NilearnX/nilearnx/atlas_data/mni152_2mm_brain_mask.nii.gz\")\n",
    "old_mask_shape = old_mask.shape # Returns (91, 109, 91)\n",
    "old_mask_affine = old_mask.affine # Returns:\n",
    "# array([[  -2.,    0.,    0.,   90.],\n",
    "#        [   0.,    2.,    0., -126.],\n",
    "#        [   0.,    0.,    2.,  -72.],\n",
    "#        [   0.,    0.,    0.,    1.]])\n",
    "\n",
    "# I want to resample the old mask to the shape and affine of the new mask\n",
    "# How can I do this? \n",
    "# Reminder: The ndarray attribute is found in the .get_fdata() method of the image object.\n",
    "\n",
    "\n",
    "# new_mask.to_filename(\"new_mask.nii.gz\")\n"
   ]
  },
  {
   "cell_type": "code",
   "execution_count": 19,
   "metadata": {},
   "outputs": [
    {
     "data": {
      "text/plain": [
       "0.9999999999999999"
      ]
     },
     "execution_count": 19,
     "metadata": {},
     "output_type": "execute_result"
    }
   ],
   "source": [
    "from nilearn import image as nli\n",
    "\n",
    "# Resample old mask to new mask's space\n",
    "resampled_new_mask = nli.resample_to_img(new_mask, old_mask, interpolation='nearest')\n",
    "\n",
    "\n",
    "# Now, correlate old_mask with resample_new_mask\n",
    "import numpy as np\n",
    "old_mask_data = old_mask.get_fdata()\n",
    "resampled_new_mask_data = resampled_new_mask.get_fdata()\n",
    "\n",
    "correlation = np.corrcoef(old_mask_data.flatten(), resampled_new_mask_data.flatten())[0, 1]\n",
    "correlation\n",
    "\n",
    "# # Now the resampled_old_mask is in the same space as new_mask\n",
    "# # You can verify this by checking its shape and affine\n",
    "# resampled_new_mask_shape = resampled_new_mask.shape\n",
    "# resampled_new_mask_affine = resampled_new_mask.affine\n",
    "\n",
    "# resampled_new_mask_shape\n",
    "\n",
    "# # print(\"Resampled Old Mask Shape:\", resampled_old_mask_shape)\n",
    "# # print(\"Resampled Old Mask Affine:\\n\", resampled_old_mask_affine)\n",
    "\n",
    "# # Optionally, save the resampled mask to a new file\n",
    "# # nib.save(resampled_old_mask, '/path/to/resampled_old_mask.nii.gz')\n"
   ]
  },
  {
   "cell_type": "code",
   "execution_count": 2,
   "metadata": {},
   "outputs": [
    {
     "data": {
      "text/plain": [
       "(91, 109, 91)"
      ]
     },
     "execution_count": 2,
     "metadata": {},
     "output_type": "execute_result"
    }
   ],
   "source": [
    "from nilearnx import datasets as datasets\n",
    "from nilearnx.datasets import load_mni152_brain_maskX\n",
    "import nibabel as nib\n",
    "\n",
    "# new_mask = load_mni152_brain_maskX(resolution=2)\n",
    "new_mask = load_mni152_brain_maskX(resolution=2)\n",
    "new_mask.shape"
   ]
  }
 ],
 "metadata": {
  "kernelspec": {
   "display_name": "joseph_env",
   "language": "python",
   "name": "python3"
  },
  "language_info": {
   "codemirror_mode": {
    "name": "ipython",
    "version": 3
   },
   "file_extension": ".py",
   "mimetype": "text/x-python",
   "name": "python",
   "nbconvert_exporter": "python",
   "pygments_lexer": "ipython3",
   "version": "3.12.1"
  }
 },
 "nbformat": 4,
 "nbformat_minor": 2
}
